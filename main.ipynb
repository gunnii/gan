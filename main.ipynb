{
 "cells": [
  {
   "cell_type": "code",
   "execution_count": 5,
   "metadata": {
    "collapsed": true,
    "scrolled": true
   },
   "outputs": [],
   "source": [
    "import torchvision\n",
    "import torch\n",
    "from preprocessing import get_category, get_imagepath\n",
    "from torch.backends import cudnn\n",
    "import argparse"
   ]
  },
  {
   "cell_type": "code",
   "execution_count": 8,
   "metadata": {
    "collapsed": true
   },
   "outputs": [],
   "source": [
    "def main(config):\n",
    "    cudnn.benchmark = True\n",
    "    path = get_imagepath()\n",
    "    image_data = torchvision.datasets.ImageFolder(result[0])\n",
    "    data_loader = torch.utils.data.DataLoader(image_data, batch_size=100, shuffle=True)\n",
    "    solver = Solver(config, data_loader)\n",
    "    # Create directories if not exist\n",
    "    if not os.path.exists(config.model_path):\n",
    "        os.makedirs(config.model_path)\n",
    "    if not os.path.exists(config.sample_path):\n",
    "        os.makedirs(config.sample_path)\n",
    "    \n",
    "    # Train and sample the images\n",
    "    if config.mode == 'train':\n",
    "        solver.train()\n",
    "    elif config.mode == 'sample':\n",
    "        solver.sample()\n"
   ]
  },
  {
   "cell_type": "code",
   "execution_count": 11,
   "metadata": {
    "scrolled": true
   },
   "outputs": [
    {
     "name": "stderr",
     "output_type": "stream",
     "text": [
      "usage: ipykernel_launcher.py [-h] [--image_size IMAGE_SIZE] [--z_dim Z_DIM]\n",
      "                             [--g_conv_dim G_CONV_DIM]\n",
      "                             [--d_conv_dim D_CONV_DIM]\n",
      "                             [--num_epochs NUM_EPOCHS]\n",
      "                             [--batch_size BATCH_SIZE]\n",
      "                             [--sample_size SAMPLE_SIZE]\n",
      "                             [--num_workers NUM_WORKERS] [--lr LR]\n",
      "                             [--beta1 BETA1] [--beta2 BETA2] [--mode MODE]\n",
      "                             [--model_path MODEL_PATH]\n",
      "                             [--sample_path SAMPLE_PATH]\n",
      "                             [--image_path IMAGE_PATH] [--log_step LOG_STEP]\n",
      "                             [--sample_step SAMPLE_STEP]\n",
      "ipykernel_launcher.py: error: unrecognized arguments: -f C:\\Users\\Gunhwi\\AppData\\Roaming\\jupyter\\runtime\\kernel-3599bd18-7381-4c45-8a77-3480c2f52612.json\n"
     ]
    },
    {
     "ename": "SystemExit",
     "evalue": "2",
     "output_type": "error",
     "traceback": [
      "An exception has occurred, use %tb to see the full traceback.\n",
      "\u001b[1;31mSystemExit\u001b[0m\u001b[1;31m:\u001b[0m 2\n"
     ]
    },
    {
     "name": "stderr",
     "output_type": "stream",
     "text": [
      "C:\\ProgramData\\Anaconda3\\lib\\site-packages\\IPython\\core\\interactiveshell.py:2889: UserWarning: To exit: use 'exit', 'quit', or Ctrl-D.\n",
      "  warn(\"To exit: use 'exit', 'quit', or Ctrl-D.\", stacklevel=1)\n"
     ]
    }
   ],
   "source": [
    "if __name__ == '__main__':\n",
    "    parser = argparse.ArgumentParser()\n",
    "    # model hyper-parameters\n",
    "    parser.add_argument('--image_size', type=int, default=200)\n",
    "    parser.add_argument('--z_dim', type=int, default=100)\n",
    "    parser.add_argument('--g_conv_dim', type=int, default=64)\n",
    "    parser.add_argument('--d_conv_dim', type=int, default=64)\n",
    "    \n",
    "    # training hyper-parameters\n",
    "    parser.add_argument('--num_epochs', type=int, default=20)\n",
    "    parser.add_argument('--batch_size', type=int, default=32)\n",
    "    parser.add_argument('--sample_size', type=int, default=100)\n",
    "    parser.add_argument('--num_workers', type=int, default=2)\n",
    "    parser.add_argument('--lr', type=float, default=0.0002)\n",
    "    parser.add_argument('--beta1', type=float, default=0.5)        # momentum1 in Adam\n",
    "    parser.add_argument('--beta2', type=float, default=0.999)      # momentum2 in Adam\n",
    "    \n",
    "    # misc\n",
    "    parser.add_argument('--mode', type=str, default='train')\n",
    "    parser.add_argument('--model_path', type=str, default='./models')\n",
    "    parser.add_argument('--sample_path', type=str, default='./samples')\n",
    "    parser.add_argument('--image_path', type=str, default='./dataset/wiki_crop/00')\n",
    "    parser.add_argument('--log_step', type=int , default=10)\n",
    "    parser.add_argument('--sample_step', type=int , default=500)\n",
    "    config = parser.parse_args()\n",
    "    print(config)\n",
    "    main(config)\n",
    "    "
   ]
  },
  {
   "cell_type": "code",
   "execution_count": null,
   "metadata": {
    "collapsed": true
   },
   "outputs": [],
   "source": []
  }
 ],
 "metadata": {
  "kernelspec": {
   "display_name": "Python 3",
   "language": "python",
   "name": "python3"
  },
  "language_info": {
   "codemirror_mode": {
    "name": "ipython",
    "version": 3
   },
   "file_extension": ".py",
   "mimetype": "text/x-python",
   "name": "python",
   "nbconvert_exporter": "python",
   "pygments_lexer": "ipython3",
   "version": "3.6.1"
  }
 },
 "nbformat": 4,
 "nbformat_minor": 2
}
