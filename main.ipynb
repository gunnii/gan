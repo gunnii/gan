{
 "cells": [
  {
   "cell_type": "code",
   "execution_count": 1,
   "metadata": {
    "collapsed": true,
    "scrolled": true
   },
   "outputs": [],
   "source": [
    "import torchvision\n",
    "import torch\n",
    "from preprocessing import get_category, get_imagepath\n",
    "from torch.backends import cudnn"
   ]
  },
  {
   "cell_type": "code",
   "execution_count": null,
   "metadata": {
    "collapsed": true
   },
   "outputs": [],
   "source": [
    "def main(config):\n",
    "    cudnn.benchmark = True\n",
    "    path = get_imagepath()\n",
    "    image_data = torchvision.datasets.ImageFolder(result[0])\n",
    "    data_loader = torch.utils.data.DataLoader(image_data, batch_size=100, shuffle=True)\n",
    "    solver = Solver(config, data_loader)\n",
    "    \n",
    "    # Create directories if not exist\n",
    "    if not os.path.exists(config.model_path):\n",
    "        os.makedirs(config.model_path)\n",
    "    if not os.path.exists(config.sample_path):\n",
    "        os.makedirs(config.sample_path)\n",
    "    \n",
    "    # Train and sample the images\n",
    "    if config.mode == 'train':\n",
    "        solver.train()\n",
    "    elif config.mode == 'sample':\n",
    "        solver.sample()\n"
   ]
  },
  {
   "cell_type": "code",
   "execution_count": 2,
   "metadata": {},
   "outputs": [],
   "source": [
    "if __name__ == '__main__':\n",
    "    path = get_imagepath()\n",
    "    image_data = torchvision.datasets.ImageFolder(path[0])\n",
    "    data_loader = torch.utils.data.DataLoader(image_data, batch_size=100, shuffle=True)\n",
    "    "
   ]
  },
  {
   "cell_type": "code",
   "execution_count": null,
   "metadata": {
    "collapsed": true
   },
   "outputs": [],
   "source": []
  }
 ],
 "metadata": {
  "kernelspec": {
   "display_name": "Python 3",
   "language": "python",
   "name": "python3"
  },
  "language_info": {
   "codemirror_mode": {
    "name": "ipython",
    "version": 3
   },
   "file_extension": ".py",
   "mimetype": "text/x-python",
   "name": "python",
   "nbconvert_exporter": "python",
   "pygments_lexer": "ipython3",
   "version": "3.6.1"
  }
 },
 "nbformat": 4,
 "nbformat_minor": 2
}
